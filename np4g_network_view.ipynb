{
  "nbformat": 4,
  "nbformat_minor": 0,
  "metadata": {
    "colab": {
      "name": "np4g_network_view.ipynb",
      "provenance": [],
      "collapsed_sections": [],
      "toc_visible": true,
      "include_colab_link": true
    },
    "kernelspec": {
      "name": "python3",
      "display_name": "Python 3.7.9 64-bit ('base': conda)"
    },
    "language_info": {
      "name": "python",
      "version": "3.7.9",
      "mimetype": "text/x-python",
      "codemirror_mode": {
        "name": "ipython",
        "version": 3
      },
      "pygments_lexer": "ipython3",
      "nbconvert_exporter": "python",
      "file_extension": ".py"
    },
    "interpreter": {
      "hash": "4ae8a4a3c6c6a049269e0343702b8419c26a764acbf22e7cb14cf92ed0502135"
    }
  },
  "cells": [
    {
      "cell_type": "markdown",
      "metadata": {
        "id": "view-in-github",
        "colab_type": "text"
      },
      "source": [
        "<a href=\"https://colab.research.google.com/github/Amplil/Amplil/blob/main/np4g_network_view.ipynb\" target=\"_parent\"><img src=\"https://colab.research.google.com/assets/colab-badge.svg\" alt=\"Open In Colab\"/></a>"
      ]
    },
    {
      "cell_type": "markdown",
      "source": [
        "# 初期化"
      ],
      "metadata": {
        "id": "SI0kjtlZRPDN"
      }
    },
    {
      "cell_type": "code",
      "metadata": {
        "id": "R0YRCr7gumIi",
        "colab": {
          "base_uri": "https://localhost:8080/"
        },
        "outputId": "2617ef67-b91c-495e-813c-b300551cd289"
      },
      "source": [
        "from google.colab import drive\n",
        "drive.mount('/content/drive')"
      ],
      "execution_count": 1,
      "outputs": [
        {
          "output_type": "stream",
          "name": "stdout",
          "text": [
            "Drive already mounted at /content/drive; to attempt to forcibly remount, call drive.mount(\"/content/drive\", force_remount=True).\n"
          ]
        }
      ]
    },
    {
      "cell_type": "code",
      "metadata": {
        "id": "zPhT98YigIjd",
        "colab": {
          "base_uri": "https://localhost:8080/"
        },
        "outputId": "ebc0fb29-a58a-4f28-ec4a-b42a66ebf2e4"
      },
      "source": [
        "cd \"/content/drive/MyDrive/Colab Notebooks/tag_language\""
      ],
      "execution_count": 2,
      "outputs": [
        {
          "output_type": "stream",
          "name": "stdout",
          "text": [
            "/content/drive/MyDrive/Colab Notebooks/tag_language\n"
          ]
        }
      ]
    },
    {
      "cell_type": "code",
      "metadata": {
        "id": "OEGj1Du_rXBU"
      },
      "source": [
        "#import np4g\n",
        "from np4g import *"
      ],
      "execution_count": 3,
      "outputs": []
    },
    {
      "cell_type": "markdown",
      "source": [
        "# 表示するネットワークの文字列を入力"
      ],
      "metadata": {
        "id": "zh9i0EAaRRqd"
      }
    },
    {
      "cell_type": "code",
      "source": [
        "node1=\"[(0, '0'), (1, <function equal at 0x7f153c827830>), (2, '1'), (3, <function equal at 0x7f153c827830>), (4, <function control_gate at 0x7f153c8278c0>), (5, '0'), (6, <function split_ at 0x7f1540d37830>), (7, <function equal at 0x7f153c827830>), (8, '0'), (9, <function split_ at 0x7f1540d37830>)]\"\n",
        "edge1=\"[(6, 1), ('in', 1), (0, 3), ('in', 3), (2, 4), (3, 4), (8, 6), (2, 7), (5, 7), (8, 9)]\"\n",
        "\n",
        "node2=\"[(0, '1'), (1, '0'), (2, <function control_gate at 0x7f153c8278c0>), (3, '1'), (4, <function NP4Gstruct.MultiRequirements.<locals>.<lambda> at 0x7f153c7c5050>), (5, '0'), (6, <function control_gate at 0x7f153c8278c0>), (7, <function control_gate at 0x7f153c8278c0>), (8, <function NP4Gstruct.MultiRequirements.<locals>.<lambda> at 0x7f153c7c5050>), (9, <function equal at 0x7f153c827830>)]\"\n",
        "edge2=\"[(1, 2), (8, 2), (9, 4), (1, 6), (8, 6), (5, 7), (9, 7), (2, 8), ('in', 9), (0, 9)]\"\n",
        "\n",
        "node3=\"[(0, <function split_ at 0x7f1540d37830>), (1, <function sum at 0x7f153c8277a0>), (2, <function NP4Gstruct.MultiRequirements.<locals>.<lambda> at 0x7f153c7c5050>), (3, <function NP4Gstruct.MultiRequirements.<locals>.<lambda> at 0x7f153c7c5050>), (4, <function NP4Gstruct.MultiRequirements.<locals>.<lambda> at 0x7f1533a92170>), (5, <function NP4Gstruct.MultiRequirements.<locals>.<lambda> at 0x7f1533a92170>), (6, '1'), (7, <function NP4Gstruct.MultiRequirements.<locals>.<lambda> at 0x7f153c7c5050>), (8, '0'), (9, <function equal at 0x7f153c827830>)]\"\n",
        "edge3=\"[(9, 0), (5, 1), (2, 1), ('in', 2), (0, 3), (7, 4), ('in', 5), (0, 7), (3, 9), (8, 9)]\"\n",
        "\n",
        "node4=\"[(0, <function NP4Gstruct.MultiRequirements.<locals>.<lambda> at 0x7f15339bdf80>), (1, <function split_ at 0x7f1540d37830>), (2, '0 0'), (3, '1 1'), (4, '0 0'), (5, <function sum at 0x7f153c8277a0>), (6, '1 1'), (7, <function NP4Gstruct.MultiRequirements.<locals>.<lambda> at 0x7f1533a92170>), (8, '1 1'), (9, '0 0')]\"\n",
        "edge4=\"[(1, 0), ('in', 1), (0, 5), (2, 7)]\"\n",
        "\n",
        "adf1str='<function NP4Gstruct.MultiRequirements.<locals>.<lambda> at 0x7f153c7c5050>'\n",
        "adf2str='<function NP4Gstruct.MultiRequirements.<locals>.<lambda> at 0x7f1533a92170>'\n",
        "adf3str='<function NP4Gstruct.MultiRequirements.<locals>.<lambda> at 0x7f15339bdf80>'"
      ],
      "metadata": {
        "id": "FVtyMol9khVz"
      },
      "execution_count": 4,
      "outputs": []
    },
    {
      "cell_type": "code",
      "source": [
        "node1= \"[(0, '1'), (1, <function control_gate at 0x7f756b67b050>), (2, <function split_ at 0x7f756bab1050>), (3, <function control_gate at 0x7f756b67b050>), (4, '1'), (5, <function split_ at 0x7f756bab1050>), (6, '0'), (7, <function split_ at 0x7f756bab1050>), (8, <function equal at 0x7f756b678f80>), (9, '1')]\"  \n",
        "edge1= \"[(7, 1), (8, 1), (9, 2), (8, 3), (0, 3), (2, 5), (9, 7), (6, 8), ('in', 8)]\"  \n",
        "\n",
        "node2= \"[(0, '1'), (1, '0'), (2, <function control_gate at 0x7f756b67b050>), (3, <function control_gate at 0x7f756b67b050>), (4, <function equal at 0x7f756b678f80>), (5, '0'), (6, '1'), (7, <function split_ at 0x7f756bab1050>), (8, '0'), (9, <function equal at 0x7f756b678f80>)]\"  \n",
        "edge2= \"[(0, 2), (9, 2), (4, 3), (1, 3), ('in', 4), (6, 4), (6, 7), (2, 9), (8, 9)]\"  \n",
        "\n",
        "node3= \"[(0, <function split_ at 0x7f756bab1050>), (1, '1'), (2, <function NP4Gstruct.MultiRequirements.<locals>.<lambda> at 0x7f756b6a34d0>), (3, <function split_ at 0x7f756bab1050>), (4, <function split_ at 0x7f756bab1050>), (5, <function NP4Gstruct.MultiRequirements.<locals>.<lambda> at 0x7f75630eacb0>), (6, '1'), (7, '1'), (8, <function sum at 0x7f756b678ef0>), (9, <function sum at 0x7f756b678ef0>)]\"  \n",
        "edge3= \"[(5, 0), ('in', 2), (0, 3), (8, 4), ('in', 5), (6, 8), (3, 8), (5, 8), (1, 8), (4, 8), (5, 9), (2, 9)]\"  \n",
        "\n",
        "node4= \"[(0, <function split_ at 0x7f756bab1050>), (1, '1'), (2, <function split_ at 0x7f756bab1050>), (3, '1 1'), (4, <function NP4Gstruct.MultiRequirements.<locals>.<lambda> at 0x7f75630eacb0>), (5, <function NP4Gstruct.MultiRequirements.<locals>.<lambda> at 0x7f756b6a34d0>), (6, <function sum at 0x7f756b678ef0>), (7, <function NP4Gstruct.MultiRequirements.<locals>.<lambda> at 0x7f756b6a34d0>), (8, <function split_ at 0x7f756bab1050>), (9, <function NP4Gstruct.MultiRequirements.<locals>.<lambda> at 0x7f756b6a34d0>)]\"  \n",
        "edge4= \"[(5, 0), (4, 2), (8, 4), (9, 5), (4, 6), (5, 6), (9, 6), (8, 7), ('in', 8), (8, 9)]\"\n",
        "\n",
        "adf1str='<function NP4Gstruct.MultiRequirements.<locals>.<lambda> at 0x7f756b6a34d0>'\n",
        "adf2str='<function NP4Gstruct.MultiRequirements.<locals>.<lambda> at 0x7f75630eacb0>'\n",
        "adf3str='<>' # なし"
      ],
      "metadata": {
        "id": "HBuQP6yYV9JS"
      },
      "execution_count": 5,
      "outputs": []
    },
    {
      "cell_type": "markdown",
      "source": [
        "# TransNetworkInfo"
      ],
      "metadata": {
        "id": "0dnuk9dQDjEK"
      }
    },
    {
      "cell_type": "code",
      "source": [
        "TransNetworkInfo.node_resist(adf1str,'adf1')\n",
        "TransNetworkInfo.node_resist(adf2str,'adf2')\n",
        "TransNetworkInfo.node_resist(adf3str,'adf3')"
      ],
      "metadata": {
        "id": "HRKsrBbiiUT9"
      },
      "execution_count": 7,
      "outputs": []
    },
    {
      "cell_type": "code",
      "source": [
        "tni1=TransNetworkInfo(node1,edge1)\n",
        "tni2=TransNetworkInfo(node2,edge2)\n",
        "tni3=TransNetworkInfo(node3,edge3)\n",
        "tni4=TransNetworkInfo(node4,edge4)"
      ],
      "metadata": {
        "id": "HDnXeZoXnFvj"
      },
      "execution_count": 8,
      "outputs": []
    },
    {
      "cell_type": "code",
      "source": [
        "print(\"network1\"),tni1.trans_info()\n",
        "print(\"\\nnetwork2\"),tni2.trans_info()\n",
        "print(\"\\nnetwork3\"),tni3.trans_info()\n",
        "print(\"\\nnetwork4\"),tni4.trans_info()"
      ],
      "metadata": {
        "colab": {
          "base_uri": "https://localhost:8080/"
        },
        "id": "_m5EmiXtnj-V",
        "outputId": "d733de50-3bdc-41c6-fce9-529b0c3bc916"
      },
      "execution_count": 9,
      "outputs": [
        {
          "output_type": "stream",
          "name": "stdout",
          "text": [
            "network1\n",
            "node:  [(0, '1'), (1, 'control_gate'), (2, 'split_'), (3, 'control_gate'), (4, '1'), (5, 'split_'), (6, '0'), (7, 'split_'), (8, 'equal'), (9, '1')]\n",
            "edge:  [(7, 1), (8, 1), (9, 2), (8, 3), (0, 3), (2, 5), (9, 7), (6, 8), ('in', 8)]\n",
            "\n",
            "network2\n",
            "node:  [(0, '1'), (1, '0'), (2, 'control_gate'), (3, 'control_gate'), (4, 'equal'), (5, '0'), (6, '1'), (7, 'split_'), (8, '0'), (9, 'equal')]\n",
            "edge:  [(0, 2), (9, 2), (4, 3), (1, 3), ('in', 4), (6, 4), (6, 7), (2, 9), (8, 9)]\n",
            "\n",
            "network3\n",
            "node:  [(0, 'split_'), (1, '1'), (2, 'adf1'), (3, 'split_'), (4, 'split_'), (5, 'adf2'), (6, '1'), (7, '1'), (8, 'sum'), (9, 'sum')]\n",
            "edge:  [(5, 0), ('in', 2), (0, 3), (8, 4), ('in', 5), (6, 8), (3, 8), (5, 8), (1, 8), (4, 8), (5, 9), (2, 9)]\n",
            "\n",
            "network4\n",
            "node:  [(0, 'split_'), (1, '1'), (2, 'split_'), (3, '1 1'), (4, 'adf2'), (5, 'adf1'), (6, 'sum'), (7, 'adf1'), (8, 'split_'), (9, 'adf1')]\n",
            "edge:  [(5, 0), (4, 2), (8, 4), (9, 5), (4, 6), (5, 6), (9, 6), (8, 7), ('in', 8), (8, 9)]\n"
          ]
        },
        {
          "output_type": "execute_result",
          "data": {
            "text/plain": [
              "(None, None)"
            ]
          },
          "metadata": {},
          "execution_count": 9
        }
      ]
    },
    {
      "cell_type": "markdown",
      "source": [
        "# それぞれのノードを表示してコピペすることで読み込む"
      ],
      "metadata": {
        "id": "eXc_MVCSTmIS"
      }
    },
    {
      "cell_type": "code",
      "source": [
        "# mathematicaへの入力\n",
        "print('node1=','\"',tni1.trans_node_str_list(),'\";')\n",
        "print('edge1=','\"',tni1.trans_edge(),'\";')\n",
        "print('\\nnode2=','\"',tni2.trans_node_str_list(),'\";')\n",
        "print('edge2=','\"',tni2.trans_edge(),'\";')\n",
        "print('\\nnode3=','\"',tni3.trans_node_str_list(),'\";')\n",
        "print('edge3=','\"',tni3.trans_edge(),'\";')\n",
        "print('\\nnode4=','\"',tni4.trans_node_str_list(),'\";')\n",
        "print('edge4=','\"',tni4.trans_edge(),'\";')"
      ],
      "metadata": {
        "colab": {
          "base_uri": "https://localhost:8080/"
        },
        "id": "HRlYG-f-PEdS",
        "outputId": "986499d1-9319-49f2-864d-b1cea64e10a3"
      },
      "execution_count": 42,
      "outputs": [
        {
          "output_type": "stream",
          "name": "stdout",
          "text": [
            "node1= \" [(0, '1'), (1, 'control_gate'), (2, 'split_'), (3, 'control_gate'), (4, '1'), (5, 'split_'), (6, '0'), (7, 'split_'), (8, 'equal'), (9, '1')] \";\n",
            "edge1= \" [(7, 1), (8, 1), (9, 2), (8, 3), (0, 3), (2, 5), (9, 7), (6, 8), ('in', 8)] \";\n",
            "\n",
            "node2= \" [(0, '1'), (1, '0'), (2, 'control_gate'), (3, 'control_gate'), (4, 'equal'), (5, '0'), (6, '1'), (7, 'split_'), (8, '0'), (9, 'equal')] \";\n",
            "edge2= \" [(0, 2), (9, 2), (4, 3), (1, 3), ('in', 4), (6, 4), (6, 7), (2, 9), (8, 9)] \";\n",
            "\n",
            "node3= \" [(0, 'split_'), (1, '1'), (2, 'adf1'), (3, 'split_'), (4, 'split_'), (5, 'adf2'), (6, '1'), (7, '1'), (8, 'sum'), (9, 'sum')] \";\n",
            "edge3= \" [(5, 0), ('in', 2), (0, 3), (8, 4), ('in', 5), (6, 8), (3, 8), (5, 8), (1, 8), (4, 8), (5, 9), (2, 9)] \";\n",
            "\n",
            "node4= \" [(0, 'split_'), (1, '1'), (2, 'split_'), (3, '1 1'), (4, 'adf2'), (5, 'adf1'), (6, 'sum'), (7, 'adf1'), (8, 'split_'), (9, 'adf1')] \";\n",
            "edge4= \" [(5, 0), (4, 2), (8, 4), (9, 5), (4, 6), (5, 6), (9, 6), (8, 7), ('in', 8), (8, 9)] \";\n"
          ]
        }
      ]
    },
    {
      "cell_type": "code",
      "source": [
        "print(\"tni1node=\",tni1.trans_node_body_str().replace(\"'adf1'\",'adf1').replace(\"'adf2'\",'adf2').replace(\"'adf3'\",'adf3'))\n",
        "print(\"adf1=lambda gn : adfs(gn,tni1node,tni1.trans_edge())\")\n",
        "print(\"tni2node=\",tni2.trans_node_body_str().replace(\"'adf1'\",'adf1').replace(\"'adf2'\",'adf2').replace(\"'adf3'\",'adf3'))\n",
        "print(\"adf2=lambda gn : adfs(gn,tni2node,tni2.trans_edge())\")\n",
        "print(\"tni3node=\",tni3.trans_node_body_str().replace(\"'adf1'\",'adf1').replace(\"'adf2'\",'adf2').replace(\"'adf3'\",'adf3'))\n",
        "print(\"adf3=lambda gn : adfs(gn,tni3node,tni3.trans_edge())\")\n",
        "print(\"tni4node=\",tni4.trans_node_body_str().replace(\"'adf1'\",'adf1').replace(\"'adf2'\",'adf2').replace(\"'adf3'\",'adf3'))"
      ],
      "metadata": {
        "colab": {
          "base_uri": "https://localhost:8080/"
        },
        "id": "iFRSL0MwKYNP",
        "outputId": "19d50b8b-14f4-47b8-ee92-7b4d318f779b"
      },
      "execution_count": 11,
      "outputs": [
        {
          "output_type": "stream",
          "name": "stdout",
          "text": [
            "tni1node= [(0,'1'),(1,control_gate),(2,split_),(3,control_gate),(4,'1'),(5,split_),(6,'0'),(7,split_),(8,equal),(9,'1')]\n",
            "adf1=lambda gn : adfs(gn,tni1node,tni1.trans_edge())\n",
            "tni2node= [(0,'1'),(1,'0'),(2,control_gate),(3,control_gate),(4,equal),(5,'0'),(6,'1'),(7,split_),(8,'0'),(9,equal)]\n",
            "adf2=lambda gn : adfs(gn,tni2node,tni2.trans_edge())\n",
            "tni3node= [(0,split_),(1,'1'),(2,adf1),(3,split_),(4,split_),(5,adf2),(6,'1'),(7,'1'),(8,sum),(9,sum)]\n",
            "adf3=lambda gn : adfs(gn,tni3node,tni3.trans_edge())\n",
            "tni4node= [(0,split_),(1,'1'),(2,split_),(3,'1 1'),(4,adf2),(5,adf1),(6,sum),(7,adf1),(8,split_),(9,adf1)]\n"
          ]
        }
      ]
    },
    {
      "cell_type": "code",
      "source": [
        "tni1node= [(0,'1'),(1,control_gate),(2,split_),(3,control_gate),(4,'1'),(5,split_),(6,'0'),(7,split_),(8,equal),(9,'1')]\n",
        "adf1=lambda gn : adfs(gn,tni1node,tni1.trans_edge())\n",
        "tni2node= [(0,'1'),(1,'0'),(2,control_gate),(3,control_gate),(4,equal),(5,'0'),(6,'1'),(7,split_),(8,'0'),(9,equal)]\n",
        "adf2=lambda gn : adfs(gn,tni2node,tni2.trans_edge())\n",
        "tni3node= [(0,split_),(1,'1'),(2,adf1),(3,split_),(4,split_),(5,adf2),(6,'1'),(7,'1'),(8,sum),(9,sum)]\n",
        "adf3=lambda gn : adfs(gn,tni3node,tni3.trans_edge())\n",
        "tni4node= [(0,split_),(1,'1'),(2,split_),(3,'1 1'),(4,adf2),(5,adf1),(6,sum),(7,adf1),(8,split_),(9,adf1)]"
      ],
      "metadata": {
        "id": "vmwRCKM8LMB0"
      },
      "execution_count": 35,
      "outputs": []
    },
    {
      "cell_type": "code",
      "source": [
        "printx.on()"
      ],
      "metadata": {
        "id": "p3ZmoPlqzK47"
      },
      "execution_count": 13,
      "outputs": []
    },
    {
      "cell_type": "code",
      "source": [
        "np1=NetworkProgram('0',tni1node,tni1.trans_edge())\n",
        "np1.run()"
      ],
      "metadata": {
        "colab": {
          "base_uri": "https://localhost:8080/",
          "height": 36
        },
        "id": "wXq01giXGIfB",
        "outputId": "e45097a3-689f-4567-9403-34c5e992f150"
      },
      "execution_count": 36,
      "outputs": [
        {
          "output_type": "execute_result",
          "data": {
            "application/vnd.google.colaboratory.intrinsic+json": {
              "type": "string"
            },
            "text/plain": [
              "'1'"
            ]
          },
          "metadata": {},
          "execution_count": 36
        }
      ]
    },
    {
      "cell_type": "code",
      "source": [
        "np2=NetworkProgram('1',tni2node,tni2.trans_edge())\n",
        "np2.run()"
      ],
      "metadata": {
        "colab": {
          "base_uri": "https://localhost:8080/",
          "height": 36
        },
        "id": "rnhYYOZ7GQfw",
        "outputId": "8994b8e9-f4b8-46f5-cb8c-1e442721a08d"
      },
      "execution_count": 37,
      "outputs": [
        {
          "output_type": "execute_result",
          "data": {
            "application/vnd.google.colaboratory.intrinsic+json": {
              "type": "string"
            },
            "text/plain": [
              "'0'"
            ]
          },
          "metadata": {},
          "execution_count": 37
        }
      ]
    },
    {
      "cell_type": "code",
      "source": [
        "np3=NetworkProgram('1',tni3node,tni3.trans_edge())\n",
        "np3.run()"
      ],
      "metadata": {
        "colab": {
          "base_uri": "https://localhost:8080/",
          "height": 36
        },
        "id": "KvH3Au04Go37",
        "outputId": "5319cc1a-7284-4ce8-a634-5dd979926591"
      },
      "execution_count": 44,
      "outputs": [
        {
          "output_type": "execute_result",
          "data": {
            "application/vnd.google.colaboratory.intrinsic+json": {
              "type": "string"
            },
            "text/plain": [
              "'0'"
            ]
          },
          "metadata": {},
          "execution_count": 44
        }
      ]
    },
    {
      "cell_type": "code",
      "source": [
        "np4=NetworkProgram('0 0 1',tni4node,tni4.trans_edge())\n",
        "np4.run()"
      ],
      "metadata": {
        "colab": {
          "base_uri": "https://localhost:8080/",
          "height": 36
        },
        "id": "W3sqtdIG9jMG",
        "outputId": "a70cdeb5-8e8d-4e26-f0b9-95e89b1328e5"
      },
      "execution_count": 45,
      "outputs": [
        {
          "output_type": "execute_result",
          "data": {
            "application/vnd.google.colaboratory.intrinsic+json": {
              "type": "string"
            },
            "text/plain": [
              "'0 1 1'"
            ]
          },
          "metadata": {},
          "execution_count": 45
        }
      ]
    },
    {
      "cell_type": "code",
      "source": [
        "np4.network_show()"
      ],
      "metadata": {
        "id": "hU39WUERzSw8",
        "colab": {
          "base_uri": "https://localhost:8080/",
          "height": 304
        },
        "outputId": "d037bb03-92a9-48a8-8dfa-eeac75dd75f7"
      },
      "execution_count": 15,
      "outputs": [
        {
          "output_type": "stream",
          "name": "stdout",
          "text": [
            "nodes:  [('in', {'ele': '0 0 1'}), (0, {'ele': <function split_ at 0x7f5c5dffa290>}), (1, {'ele': '1'}), (2, {'ele': <function split_ at 0x7f5c5dffa290>}), (3, {'ele': '1 1'}), (4, {'ele': <function <lambda> at 0x7f5c5a91d8c0>}), (5, {'ele': <function <lambda> at 0x7f5c5a8ed710>}), (6, {'ele': <function sum at 0x7f5c5a94c560>}), (7, {'ele': <function <lambda> at 0x7f5c5a8ed710>}), (8, {'ele': <function split_ at 0x7f5c5dffa290>}), (9, {'ele': <function <lambda> at 0x7f5c5a8ed710>})]\n",
            "edges:  [('in', 8, {'ele': '0 0 1'}), (4, 2, {'ele': ['[NULL]', '[NULL]', '0']}), (4, 6, {'ele': ['[NULL]', '[NULL]', '0']}), (5, 0, {'ele': ['[NULL]', '[NULL]', '[NULL]']}), (5, 6, {'ele': ['[NULL]', '[NULL]', '[NULL]']}), (8, 4, {'ele': ['0', '0', '1']}), (8, 7, {'ele': ['0', '0', '1']}), (8, 9, {'ele': ['0', '0', '1']}), (9, 5, {'ele': ['1', '1', '[NULL]']}), (9, 6, {'ele': ['1', '1', '[NULL]']})]\n"
          ]
        },
        {
          "output_type": "display_data",
          "data": {
            "image/png": "[encoded data removed]",
            "text/plain": [
              "<Figure size 432x288 with 1 Axes>"
            ]
          },
          "metadata": {}
        }
      ]
    },
    {
      "cell_type": "code",
      "source": [
        "printx.off()"
      ],
      "metadata": {
        "id": "OUKfEZjvUzfT"
      },
      "execution_count": 16,
      "outputs": []
    },
    {
      "cell_type": "code",
      "metadata": {
        "id": "lAEvwWdOlmeA"
      },
      "source": [
        "import itertools\n",
        "test_data=[]\n",
        "for repeat in range(1,6):\n",
        "  in_=list(itertools.product(\"01\",repeat=repeat))\n",
        "  out_=list(reversed(in_))\n",
        "  test_data.extend(list(map(lambda i,j:(i,j),map(\" \".join,in_),map(\" \".join,out_))))"
      ],
      "execution_count": 17,
      "outputs": []
    },
    {
      "cell_type": "code",
      "metadata": {
        "id": "-prKADqul64v",
        "colab": {
          "base_uri": "https://localhost:8080/"
        },
        "outputId": "1b85fd02-5fef-44ac-d72f-1e957ec47003"
      },
      "source": [
        "NP4Gtest(tni4node,tni4.trans_edge(),test_data)"
      ],
      "execution_count": 18,
      "outputs": [
        {
          "output_type": "stream",
          "name": "stdout",
          "text": [
            "input: 0 , answer: 1 , correct: True\n",
            "input: 1 , answer: 0 , correct: True\n",
            "input: 0 0 , answer: 1 1 , correct: True\n",
            "input: 0 1 , answer: 0 1 , correct: False\n",
            "input: 1 0 , answer: 0 1 , correct: True\n",
            "input: 1 1 , answer: 0 0 , correct: True\n",
            "input: 0 0 0 , answer: 1 1 1 , correct: True\n",
            "input: 0 0 1 , answer: 0 1 1 , correct: False\n",
            "input: 0 1 0 , answer: 0 1 1 , correct: False\n",
            "input: 0 1 1 , answer: 0 0 1 , correct: False\n",
            "input: 1 0 0 , answer: 0 1 1 , correct: True\n",
            "input: 1 0 1 , answer: 0 0 1 , correct: False\n",
            "input: 1 1 0 , answer: 0 0 1 , correct: True\n",
            "input: 1 1 1 , answer: 0 0 0 , correct: True\n",
            "input: 0 0 0 0 , answer: 1 1 1 1 , correct: True\n",
            "input: 0 0 0 1 , answer: 0 1 1 1 , correct: False\n",
            "input: 0 0 1 0 , answer: 0 1 1 1 , correct: False\n",
            "input: 0 0 1 1 , answer: 0 0 1 1 , correct: False\n",
            "input: 0 1 0 0 , answer: 0 1 1 1 , correct: False\n",
            "input: 0 1 0 1 , answer: 0 0 1 1 , correct: False\n",
            "input: 0 1 1 0 , answer: 0 0 1 1 , correct: False\n",
            "input: 0 1 1 1 , answer: 0 0 0 1 , correct: False\n",
            "input: 1 0 0 0 , answer: 0 1 1 1 , correct: True\n",
            "input: 1 0 0 1 , answer: 0 0 1 1 , correct: False\n",
            "input: 1 0 1 0 , answer: 0 0 1 1 , correct: False\n",
            "input: 1 0 1 1 , answer: 0 0 0 1 , correct: False\n",
            "input: 1 1 0 0 , answer: 0 0 1 1 , correct: True\n",
            "input: 1 1 0 1 , answer: 0 0 0 1 , correct: False\n",
            "input: 1 1 1 0 , answer: 0 0 0 1 , correct: True\n",
            "input: 1 1 1 1 , answer: 0 0 0 0 , correct: True\n",
            "input: 0 0 0 0 0 , answer: 1 1 1 1 1 , correct: True\n",
            "input: 0 0 0 0 1 , answer: 0 1 1 1 1 , correct: False\n",
            "input: 0 0 0 1 0 , answer: 0 1 1 1 1 , correct: False\n",
            "input: 0 0 0 1 1 , answer: 0 0 1 1 1 , correct: False\n",
            "input: 0 0 1 0 0 , answer: 0 1 1 1 1 , correct: False\n",
            "input: 0 0 1 0 1 , answer: 0 0 1 1 1 , correct: False\n",
            "input: 0 0 1 1 0 , answer: 0 0 1 1 1 , correct: False\n",
            "input: 0 0 1 1 1 , answer: 0 0 0 1 1 , correct: False\n",
            "input: 0 1 0 0 0 , answer: 0 1 1 1 1 , correct: False\n",
            "input: 0 1 0 0 1 , answer: 0 0 1 1 1 , correct: False\n",
            "input: 0 1 0 1 0 , answer: 0 0 1 1 1 , correct: False\n",
            "input: 0 1 0 1 1 , answer: 0 0 0 1 1 , correct: False\n",
            "input: 0 1 1 0 0 , answer: 0 0 1 1 1 , correct: False\n",
            "input: 0 1 1 0 1 , answer: 0 0 0 1 1 , correct: False\n",
            "input: 0 1 1 1 0 , answer: 0 0 0 1 1 , correct: False\n",
            "input: 0 1 1 1 1 , answer: 0 0 0 0 1 , correct: False\n",
            "input: 1 0 0 0 0 , answer: 0 1 1 1 1 , correct: True\n",
            "input: 1 0 0 0 1 , answer: 0 0 1 1 1 , correct: False\n",
            "input: 1 0 0 1 0 , answer: 0 0 1 1 1 , correct: False\n",
            "input: 1 0 0 1 1 , answer: 0 0 0 1 1 , correct: False\n",
            "input: 1 0 1 0 0 , answer: 0 0 1 1 1 , correct: False\n",
            "input: 1 0 1 0 1 , answer: 0 0 0 1 1 , correct: False\n",
            "input: 1 0 1 1 0 , answer: 0 0 0 1 1 , correct: False\n",
            "input: 1 0 1 1 1 , answer: 0 0 0 0 1 , correct: False\n",
            "input: 1 1 0 0 0 , answer: 0 0 1 1 1 , correct: True\n",
            "input: 1 1 0 0 1 , answer: 0 0 0 1 1 , correct: False\n",
            "input: 1 1 0 1 0 , answer: 0 0 0 1 1 , correct: False\n",
            "input: 1 1 0 1 1 , answer: 0 0 0 0 1 , correct: False\n",
            "input: 1 1 1 0 0 , answer: 0 0 0 1 1 , correct: True\n",
            "input: 1 1 1 0 1 , answer: 0 0 0 0 1 , correct: False\n",
            "input: 1 1 1 1 0 , answer: 0 0 0 0 1 , correct: True\n",
            "input: 1 1 1 1 1 , answer: 0 0 0 0 0 , correct: True\n"
          ]
        },
        {
          "output_type": "execute_result",
          "data": {
            "text/plain": [
              "False"
            ]
          },
          "metadata": {},
          "execution_count": 18
        }
      ]
    }
  ]
}